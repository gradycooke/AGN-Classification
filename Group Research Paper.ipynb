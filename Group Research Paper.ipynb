{
 "cells": [
  {
   "cell_type": "markdown",
   "id": "fb3dec38",
   "metadata": {
    "id": "fb3dec38"
   },
   "source": [
    "Research and Modeling of the Evolution of AGN in the Local Universe\n",
    "\n",
    "- Grady Cooke, Aubrey Spicola, Sam DiRenzo\n"
   ]
  },
  {
   "cell_type": "markdown",
   "id": "5543ba0b",
   "metadata": {
    "id": "5543ba0b"
   },
   "source": [
    "# **Abstract** #"
   ]
  },
  {
   "cell_type": "markdown",
   "id": "STvZoXvGnPFZ",
   "metadata": {
    "id": "STvZoXvGnPFZ"
   },
   "source": [
    "AGN, or Active Galactic Nuclei, form when black holes gain enough mass such that an accretion disk of cold gas forms around it; this gas is sucked into the black hole with such great energy that light is emitted. These AGN are characterized by extremely great masses, luminosities, and energies, therefore, probing these intense celestial objects provides an insight into the most extraordinary conditions in the Universe. Our research was conducted in order to better understand the evolution of AGN in the local Universe. The Sloan Digital Sky Survey, or SDSS, was used to gather data pertaining to local AGN, and Python was used to parse this data, via Jupyter Notebooks. Parameters of the AGN which were taken into consideration include luminosity, absolute magnitude, redshift (and therefore distance from the Earth), host galaxy mass, and metallicity. In conducting research, several predictions were made. These predictions were compared to the data obtained via the SDSS as well as relative astrophysical research.\n"
   ]
  },
  {
   "cell_type": "markdown",
   "id": "Mf-qxVEsnLXY",
   "metadata": {
    "id": "Mf-qxVEsnLXY"
   },
   "source": [
    "# **Introduction** #"
   ]
  },
  {
   "cell_type": "markdown",
   "id": "VOpUDS2SnYIN",
   "metadata": {
    "id": "VOpUDS2SnYIN"
   },
   "source": [
    "AGN (Active Galactic Nuclei) occur when a supermassive blackhole accrues an amount of mass great enough such that it releases large amounts of energy across the entire electromagnetic spectrum [A&A, 2023].  AGN have a complex energy distribution composed of both non-thermal and thermal continuum emission lines that provide a deeper understanding of the strong gravitational environment of the accretion disk [ScienceDirect, 2023]. Additionally, AGN are composed of two regions: the broad line region (BLR) and the narrow line region (NLR). The BLR contains a greater electron density (108 cm-3) than that of the NLR (103 - 106 cm-3) as well as a greater gas velocity (3,000 - 10,000 km s-1 compared to 300 - 1,000 km s-1) [Caltech, 1990]. The NLR is much larger than the BLR; the BLR is about 10 - 100 light-days (0.00839429 parsecs to 0.0839429 parsecs) whereas the NLR typically measures 100 - 300 parsecs [Caltech, 1990]. Analysis of such a large gas cloud requires consideration of the following parameters: frequency dependence of incident continuum, gas density (pressure) and column density, gas chemical composition, geometrical shape, and ionization parameter.  \n",
    "\n",
    "AGN with higher luminosities are classified as quasars while AGN with lower luminosities are classified as Seyfert Galaxies and can be further classified as Type 1 or Type 2 [ScienceDirect, 2023]. Type 1 Seyfert galaxies have a visible nucleus and spectra that have both broad and narrow bands whereas Type 2 Seyfert galaxies only display narrow line regions due to an obscured broad line region [Sanders, 2016]. Type 2 AGN are more likely to be found in higher mass galaxies ((10.49(+0.16, -0.10) M than Type 1 AGN (10.23(+0.05, -0.08)M) [A&A, 2023].\n",
    "\n",
    "Various relationships between mass and other parameters aid in the evaluation of AGN evaluation in our local Universe. These parameters, including luminosity, metallicity, redshift, and host galaxy mass, can be accessed with The Sloan Digital Sky Survey (SDSS). Implementing the use of a sequel query allows for SDSS data extraction and application, which can be analyzed further. Graphs comparing the parameters of local AGN (redshift <= 0.4) were made in order to compare our predictions to prior data found within literature. Therefore, the goal of this project is to assess the evolution of AGN in the local Universe."
   ]
  },
  {
   "cell_type": "markdown",
   "id": "13c05026",
   "metadata": {
    "id": "13c05026"
   },
   "source": [
    "# **Analysis** #"
   ]
  },
  {
   "cell_type": "markdown",
   "id": "5oGvymzynf-u",
   "metadata": {
    "id": "5oGvymzynf-u"
   },
   "source": [
    "Looking at colors of galaxies, we would expect the galaxies which contain AGN and are relatively close to us to appear bluer, as Seyfert galaxies which are further away will be redshifted. We expect AGN host galaxies to be more massive on average compared to non-host galaxies. In a similar manner, we expect AGN host galaxies to be bluer and more luminous than non-AGN host galaxies. This is because the energy required to produce an active galactic nucleus is very great; Einstein’s $E = mc^{2}$ would tell us that highly energetic galaxies also have great mass.\n",
    "We predict higher redshift AGN have lower metallicity. This is because galaxies viewed at a high redshift are being viewed in the distant past, and in the earlier Universe, heavier elements were not as prevalent. Not all galaxy bins have the same number of points in the sample so the points of comparison of frequency on the plot will never line up which is why it appears skewed. It may not actually be skewed; it may simply be because there are more galaxies in the earlier samples so they show a  different scale. We note that bigger galaxies are easier to detect since they give off more light. When mass increases, metallicity increases, we may preferentially be sampling larger and inherently more metal-rich galaxies. We also expect AGN at higher redshift to be determined to have greater absolute magnitude on average than those at lower redshift due to this mass bias.\n",
    "Our results support the research in finding that AGN metallicity increases with host galaxy mass. Redshift is correlated with mass, and so our data then imply a positive correlation between AGN metallicity and redshift as well.\n"
   ]
  },
  {
   "cell_type": "markdown",
   "id": "b57eaa82",
   "metadata": {
    "id": "b57eaa82"
   },
   "source": [
    "#**Visualization**#"
   ]
  },
  {
   "cell_type": "markdown",
   "id": "XsgXiGb_-jtv",
   "metadata": {
    "id": "XsgXiGb_-jtv"
   },
   "source": [
    "# Import Python Libraries #"
   ]
  },
  {
   "cell_type": "code",
   "execution_count": null,
   "id": "CwiidlhB8grD",
   "metadata": {
    "id": "CwiidlhB8grD"
   },
   "outputs": [],
   "source": [
    "# Import Python libraries\n",
    "\n",
    "import numpy as np                  # standard Python library for math operations\n",
    "import pandas as pd                 # package for structuring and visualizing data\n",
    "import matplotlib.pyplot as plt     # package for graphing and visualization\n",
    "from matplotlib.image import imread\n",
    "\n",
    "# Use astropy to help with celestial coordinates and reading files\n",
    "from astropy import coordinates as coords\n",
    "from astropy.coordinates import SkyCoord\n",
    "from astropy import units as u # useful for unit conversions\n",
    "from astropy.io import fits\n",
    "from astropy.io import ascii\n",
    "\n",
    "# Astroquery for the SQL search\n",
    "from astroquery.sdss import SDSS\n",
    "from astroquery.simbad import Simbad\n",
    "\n",
    "# Python standard-libraries to download data from the web\n",
    "from urllib.parse import urlencode\n",
    "from urllib.request import urlretrieve\n",
    "\n",
    "# only here to display images\n",
    "from IPython.display import Image\n",
    "\n",
    "# import matplotlib and some of its modules\n",
    "\n",
    "import matplotlib\n",
    "%config InlineBackend.rc = {}\n",
    "from matplotlib import pylab as plt\n",
    "%matplotlib inline"
   ]
  },
  {
   "cell_type": "code",
   "execution_count": null,
   "id": "AYoKgLIa8k6Y",
   "metadata": {
    "id": "AYoKgLIa8k6Y"
   },
   "outputs": [],
   "source": [
    "# Ensures columns get written completely in notebook\n",
    "pd.set_option('display.max_colwidth', None)"
   ]
  },
  {
   "cell_type": "markdown",
   "id": "yXg5qCq78i-Z",
   "metadata": {
    "id": "yXg5qCq78i-Z"
   },
   "source": [
    "# AGN0, z = 0.0-0.01 #"
   ]
  },
  {
   "cell_type": "code",
   "execution_count": null,
   "id": "5KtA-RYw9KvP",
   "metadata": {
    "id": "5KtA-RYw9KvP"
   },
   "outputs": [],
   "source": [
    "query0 = \"\"\"\n",
    "SELECT\n",
    "    s.plate, s.fiberid, s.mjd, s.z AS redshift, s.zwarning,\n",
    "    g.oiii_5007_flux, g.h_beta_flux, g.nii_6584_flux, g.h_alpha_flux,\n",
    "    g.oiii_5007_flux_err, g.h_beta_flux_err, g.nii_6584_flux_err, g.h_alpha_flux_err,\n",
    "    e.bptclass, e.lgm_tot_p50 AS log_mass, e.oh_p50 AS oxygen_abundance,\n",
    "    p.petroR90_r, p.ra, p.dec,\n",
    "    p.petroFlux_g, p.petroFlux_i, p.petroFlux_r, p.petroFlux_u, p.petroFlux_z,\n",
    "    p.petroR90Err_g, p.petroR90Err_i, p.petroR90Err_r, p.petroR90Err_u, p.petroR90Err_z,\n",
    "    p.petroMag_u, p.petroMag_g, p.petroMag_r, p.petroMag_i, p.petroMag_z,\n",
    "    p.petroMagErr_u, p.petroMagErr_g, p.petroMagErr_r, p.petroMagErr_i, p.petroMagErr_z\n",
    "FROM GalSpecLine AS g\n",
    "JOIN SpecObj AS s ON s.specobjid = g.specobjid\n",
    "JOIN GalSpecExtra AS e ON s.specobjid = e.specobjid\n",
    "JOIN PhotoObjAll AS p ON s.specObjID = p.specObjID\n",
    "WHERE s.z BETWEEN 0 AND 0.01\n",
    "AND g.h_alpha_flux > g.h_alpha_flux_err * 5\n",
    "AND g.h_beta_flux > g.h_beta_flux_err * 5\n",
    "AND g.h_alpha_flux_err > 0\n",
    "AND g.h_beta_flux_err > 0\n",
    "AND s.class = 'GALAXY'\n",
    "AND s.zwarning = 0\n",
    "AND (g.oiii_5007_flux / g.h_beta_flux) > 3\n",
    "AND (g.nii_6584_flux / g.h_alpha_flux) < 0.6\n",
    "\n",
    "\n",
    "\"\"\"\n",
    "agn0 = SDSS.query_sql(query0, data_release=16)\n",
    "\n",
    "agn0"
   ]
  },
  {
   "cell_type": "markdown",
   "id": "LT44RBMI8u6b",
   "metadata": {
    "id": "LT44RBMI8u6b"
   },
   "source": [
    "# AGN1, z = 0.01 - 0.03419952 #"
   ]
  },
  {
   "cell_type": "code",
   "execution_count": null,
   "id": "BSXRNCbV9Nna",
   "metadata": {
    "id": "BSXRNCbV9Nna"
   },
   "outputs": [],
   "source": [
    "query1 = \"\"\"\n",
    "SELECT\n",
    "    s.plate, s.fiberid, s.mjd, s.z AS redshift, s.zwarning,\n",
    "    g.oiii_5007_flux, g.h_beta_flux, g.nii_6584_flux, g.h_alpha_flux,\n",
    "    g.oiii_5007_flux_err, g.h_beta_flux_err, g.nii_6584_flux_err, g.h_alpha_flux_err,\n",
    "    e.bptclass, e.lgm_tot_p50 AS log_mass, e.oh_p50 AS oxygen_abundance,\n",
    "    p.petroR90_r, p.ra, p.dec,\n",
    "    p.petroFlux_g, p.petroFlux_i, p.petroFlux_r, p.petroFlux_u, p.petroFlux_z,\n",
    "    p.petroR90Err_g, p.petroR90Err_i, p.petroR90Err_r, p.petroR90Err_u, p.petroR90Err_z,\n",
    "    p.petroMag_u, p.petroMag_g, p.petroMag_r, p.petroMag_i, p.petroMag_z,\n",
    "    p.petroMagErr_u, p.petroMagErr_g, p.petroMagErr_r, p.petroMagErr_i, p.petroMagErr_z\n",
    "FROM GalSpecLine AS g\n",
    "JOIN SpecObj AS s ON s.specobjid = g.specobjid\n",
    "JOIN GalSpecExtra AS e ON s.specobjid = e.specobjid\n",
    "JOIN PhotoObjAll AS p ON s.specObjID = p.specObjID\n",
    "WHERE s.z BETWEEN 0.01 AND 0.03419952\n",
    "AND g.h_alpha_flux > g.h_alpha_flux_err * 5\n",
    "AND g.h_beta_flux > g.h_beta_flux_err * 5\n",
    "AND g.h_alpha_flux_err > 0\n",
    "AND g.h_beta_flux_err > 0\n",
    "AND s.class = 'GALAXY'\n",
    "AND s.zwarning = 0\n",
    "AND (g.oiii_5007_flux / g.h_beta_flux) > 3\n",
    "AND (g.nii_6584_flux / g.h_alpha_flux) < 0.6\n",
    "\n",
    "\n",
    "\"\"\"\n",
    "agn1 = SDSS.query_sql(query1, data_release=16)\n",
    "\n",
    "agn1"
   ]
  },
  {
   "cell_type": "markdown",
   "id": "QzwRbdBW8z49",
   "metadata": {
    "id": "QzwRbdBW8z49"
   },
   "source": [
    "# AGN2, z = 0.03419952 - 0.11696071 #"
   ]
  },
  {
   "cell_type": "code",
   "execution_count": null,
   "id": "sugANuxX9Os7",
   "metadata": {
    "id": "sugANuxX9Os7"
   },
   "outputs": [],
   "source": [
    "query2 = \"\"\"\n",
    "SELECT\n",
    "    s.plate, s.fiberid, s.mjd, s.z AS redshift, s.zwarning,\n",
    "    g.oiii_5007_flux, g.h_beta_flux, g.nii_6584_flux, g.h_alpha_flux,\n",
    "    g.oiii_5007_flux_err, g.h_beta_flux_err, g.nii_6584_flux_err, g.h_alpha_flux_err,\n",
    "    e.bptclass, e.lgm_tot_p50 AS log_mass, e.oh_p50 AS oxygen_abundance,\n",
    "    p.petroR90_r, p.ra, p.dec,\n",
    "    p.petroFlux_g, p.petroFlux_i, p.petroFlux_r, p.petroFlux_u, p.petroFlux_z,\n",
    "    p.petroR90Err_g, p.petroR90Err_i, p.petroR90Err_r, p.petroR90Err_u, p.petroR90Err_z,\n",
    "    p.petroMag_u, p.petroMag_g, p.petroMag_r, p.petroMag_i, p.petroMag_z,\n",
    "    p.petroMagErr_u, p.petroMagErr_g, p.petroMagErr_r, p.petroMagErr_i, p.petroMagErr_z\n",
    "FROM GalSpecLine AS g\n",
    "JOIN SpecObj AS s ON s.specobjid = g.specobjid\n",
    "JOIN GalSpecExtra AS e ON s.specobjid = e.specobjid\n",
    "JOIN PhotoObjAll AS p ON s.specObjID = p.specObjID\n",
    "WHERE s.z BETWEEN 0.03419952 AND 0.11696071\n",
    "AND g.h_alpha_flux > g.h_alpha_flux_err * 5\n",
    "AND g.h_beta_flux > g.h_beta_flux_err * 5\n",
    "AND g.h_alpha_flux_err > 0\n",
    "AND g.h_beta_flux_err > 0\n",
    "AND s.class = 'GALAXY'\n",
    "AND s.zwarning = 0\n",
    "AND (g.oiii_5007_flux / g.h_beta_flux) > 3\n",
    "AND (g.nii_6584_flux / g.h_alpha_flux) < 0.6\n",
    "\n",
    "\n",
    "\n",
    "\n",
    "\"\"\"\n",
    "agn2 = SDSS.query_sql(query2, data_release=16)\n",
    "\n",
    "agn2"
   ]
  },
  {
   "cell_type": "markdown",
   "id": "PIkMNB7589OG",
   "metadata": {
    "id": "PIkMNB7589OG"
   },
   "source": [
    "# AGN3, z = 0.11696071 - 0.4 #"
   ]
  },
  {
   "cell_type": "code",
   "execution_count": null,
   "id": "LBtpGGMq9Qlc",
   "metadata": {
    "id": "LBtpGGMq9Qlc"
   },
   "outputs": [],
   "source": [
    "query3 = \"\"\"\n",
    "SELECT\n",
    "    s.plate, s.fiberid, s.mjd, s.z AS redshift, s.zwarning,\n",
    "    g.oiii_5007_flux, g.h_beta_flux, g.nii_6584_flux, g.h_alpha_flux,\n",
    "    g.oiii_5007_flux_err, g.h_beta_flux_err, g.nii_6584_flux_err, g.h_alpha_flux_err,\n",
    "    e.bptclass, e.lgm_tot_p50 AS log_mass, e.oh_p50 AS oxygen_abundance,\n",
    "    p.petroR90_r, p.ra, p.dec,\n",
    "    p.petroFlux_g, p.petroFlux_i, p.petroFlux_r, p.petroFlux_u, p.petroFlux_z,\n",
    "    p.petroR90Err_g, p.petroR90Err_i, p.petroR90Err_r, p.petroR90Err_u, p.petroR90Err_z,\n",
    "    p.petroMag_u, p.petroMag_g, p.petroMag_r, p.petroMag_i, p.petroMag_z,\n",
    "    p.petroMagErr_u, p.petroMagErr_g, p.petroMagErr_r, p.petroMagErr_i, p.petroMagErr_z\n",
    "FROM GalSpecLine AS g\n",
    "JOIN SpecObj AS s ON s.specobjid = g.specobjid\n",
    "JOIN GalSpecExtra AS e ON s.specobjid = e.specobjid\n",
    "JOIN PhotoObjAll AS p ON s.specObjID = p.specObjID\n",
    "WHERE s.z BETWEEN 0.11696071 AND 0.4\n",
    "AND g.h_alpha_flux > g.h_alpha_flux_err * 5\n",
    "AND g.h_beta_flux > g.h_beta_flux_err * 5\n",
    "AND g.h_alpha_flux_err > 0\n",
    "AND g.h_beta_flux_err > 0\n",
    "AND s.class = 'GALAXY'\n",
    "AND s.zwarning = 0\n",
    "AND (g.oiii_5007_flux / g.h_beta_flux) > 3\n",
    "AND (g.nii_6584_flux / g.h_alpha_flux) < 0.6\n",
    "\n",
    "\"\"\"\n",
    "agn3 = SDSS.query_sql(query3, data_release=16)\n",
    "\n",
    "agn3"
   ]
  },
  {
   "cell_type": "markdown",
   "id": "rMISffjj0ey3",
   "metadata": {
    "id": "rMISffjj0ey3"
   },
   "source": [
    "# Metallicity Frequencies for Each Group (Figure 1) #"
   ]
  },
  {
   "cell_type": "code",
   "execution_count": null,
   "id": "-oWJcJXw0cJD",
   "metadata": {
    "id": "-oWJcJXw0cJD"
   },
   "outputs": [],
   "source": [
    "agn0_positive_oxygen = agn0[agn0['oxygen_abundance'] > 0]\n",
    "agn1_positive_oxygen = agn1[agn1['oxygen_abundance'] > 0]\n",
    "agn2_positive_oxygen = agn2[agn2['oxygen_abundance'] > 0]\n",
    "agn3_positive_oxygen = agn3[agn3['oxygen_abundance'] > 0]\n",
    "\n",
    "\n",
    "bins = 30\n",
    "alpha = 0.5\n",
    "edgecolor = 'black'\n",
    "\n",
    "fig, axs = plt.subplots(2, 2, figsize=(10, 8))\n",
    "\n",
    "axs[0, 0].hist(agn0_positive_oxygen['oxygen_abundance'], bins=bins, alpha=alpha, edgecolor=edgecolor, color = 'blue', label='AGN0')\n",
    "axs[0, 0].set_title('AGN0')\n",
    "axs[0, 0].set_xlabel('Z')\n",
    "axs[0, 0].set_ylabel('Frequency')\n",
    "axs[0, 0].legend()\n",
    "\n",
    "axs[0, 1].hist(agn1_positive_oxygen['oxygen_abundance'], bins=bins, alpha=alpha, edgecolor=edgecolor, color = 'red', label='AGN1')\n",
    "axs[0, 1].set_title('AGN1')\n",
    "axs[0, 1].set_xlabel('Z')\n",
    "axs[0, 1].set_ylabel('Frequency')\n",
    "axs[0, 1].legend()\n",
    "\n",
    "axs[1, 0].hist(agn2_positive_oxygen['oxygen_abundance'], bins=bins, alpha=alpha, edgecolor=edgecolor, color = 'green', label='AGN2')\n",
    "axs[1, 0].set_title('AGN2')\n",
    "axs[1, 0].set_xlabel('Z')\n",
    "axs[1, 0].set_ylabel('Frequency')\n",
    "axs[1, 0].legend()\n",
    "\n",
    "axs[1, 1].hist(agn3_positive_oxygen['oxygen_abundance'], bins=bins, alpha=alpha, edgecolor=edgecolor, color = 'orange', label='AGN3')\n",
    "axs[1, 1].set_title('AGN3')\n",
    "axs[1, 1].set_xlabel('Z')\n",
    "axs[1, 1].set_ylabel('Frequency')\n",
    "axs[1, 1].legend()\n",
    "\n",
    "plt.tight_layout()\n",
    "\n",
    "plt.show()"
   ]
  },
  {
   "cell_type": "markdown",
   "id": "_VfOlN530rp5",
   "metadata": {
    "id": "_VfOlN530rp5"
   },
   "source": [
    "# Metallicity v. Redshift (Figure 2) #"
   ]
  },
  {
   "cell_type": "code",
   "execution_count": null,
   "id": "d5kPMyUg0qpx",
   "metadata": {
    "id": "d5kPMyUg0qpx"
   },
   "outputs": [],
   "source": [
    "agn0_filtered = agn0[(agn0['oxygen_abundance'] > 0) & (agn0['redshift'] > 0)]\n",
    "agn1_filtered = agn1[(agn1['oxygen_abundance'] > 0) & (agn1['redshift'] > 0)]\n",
    "agn2_filtered = agn2[(agn2['oxygen_abundance'] > 0) & (agn2['redshift'] > 0)]\n",
    "agn3_filtered = agn3[(agn3['oxygen_abundance'] > 0) & (agn3['redshift'] > 0)]\n",
    "\n",
    "plt.scatter(agn0_filtered['redshift'], agn0_filtered['oxygen_abundance'], alpha=0.5, s=7, label='AGN0')\n",
    "plt.scatter(agn1_filtered['redshift'], agn1_filtered['oxygen_abundance'], alpha=0.5, s=7, label='AGN1')\n",
    "plt.scatter(agn2_filtered['redshift'], agn2_filtered['oxygen_abundance'], alpha=0.5, s=7, label='AGN2')\n",
    "plt.scatter(agn3_filtered['redshift'], agn3_filtered['oxygen_abundance'], alpha=0.5, s=7, label='AGN3')\n",
    "\n",
    "plt.xscale('log')\n",
    "plt.yscale('log')\n",
    "\n",
    "plt.xlabel('$logz$', fontsize=20)\n",
    "plt.ylabel('$logZ$', fontsize=20)\n",
    "\n",
    "plt.xticks(fontsize=15)\n",
    "plt.yticks(fontsize=15)\n",
    "\n",
    "plt.legend()\n",
    "\n",
    "plt.show()\n"
   ]
  },
  {
   "cell_type": "markdown",
   "id": "6jlaKXDq3loi",
   "metadata": {
    "id": "6jlaKXDq3loi"
   },
   "source": [
    "# Mass v. Redshift (Figure 3) #"
   ]
  },
  {
   "cell_type": "code",
   "execution_count": null,
   "id": "cJLQ8Y_B3rmq",
   "metadata": {
    "id": "cJLQ8Y_B3rmq"
   },
   "outputs": [],
   "source": [
    "plt.scatter(agn0['redshift'], agn0['log_mass'], alpha=0.5, s=7, label='AGN0')\n",
    "plt.scatter(agn1['redshift'], agn1['log_mass'], alpha=0.5, s=7, label='AGN1')\n",
    "plt.scatter(agn2['redshift'], agn2['log_mass'], alpha=0.5, s=7, label='AGN2')\n",
    "plt.scatter(agn3['redshift'], agn3['log_mass'], alpha=0.5, s=7, label='AGN3')\n",
    "\n",
    "plt.xlabel('$Z$', fontsize=20)\n",
    "plt.ylabel('$logM_{*}$', fontsize=20)\n",
    "\n",
    "plt.xticks(fontsize=15)\n",
    "plt.yticks(fontsize=15)\n",
    "plt.ylim(bottom=9)\n",
    "plt.ylim(top=11)\n",
    "plt.figure(figsize=(6,10))\n",
    "\n",
    "plt.show()\n"
   ]
  },
  {
   "cell_type": "markdown",
   "id": "FmduVwDz3zkD",
   "metadata": {
    "id": "FmduVwDz3zkD"
   },
   "source": [
    "# Mass v. Metallicity (Figure 4) #"
   ]
  },
  {
   "cell_type": "code",
   "execution_count": null,
   "id": "V-pJuu4u36CW",
   "metadata": {
    "id": "V-pJuu4u36CW"
   },
   "outputs": [],
   "source": [
    "agn0_filtered = agn0[(agn0['oxygen_abundance'] > 0) & (agn0['log_mass'] > 0)]\n",
    "agn1_filtered = agn1[(agn1['oxygen_abundance'] > 0) & (agn1['log_mass'] > 0)]\n",
    "agn2_filtered = agn2[(agn2['oxygen_abundance'] > 0) & (agn2['log_mass'] > 0)]\n",
    "agn3_filtered = agn3[(agn3['oxygen_abundance'] > 0) & (agn3['log_mass'] > 0)]\n",
    "\n",
    "\n",
    "plt.scatter(agn0_filtered['oxygen_abundance'], agn0_filtered['log_mass'],alpha=0.5, s=3, color = 'blue', label='AGN0')\n",
    "plt.scatter(agn1_filtered['oxygen_abundance'], agn1_filtered['log_mass'],alpha=0.5, s=3, color = 'red', label='AGN1')\n",
    "plt.scatter(agn2_filtered['oxygen_abundance'], agn2_filtered['log_mass'],alpha=0.5, s=3, color = 'green', label='AGN2')\n",
    "plt.scatter(agn3_filtered['oxygen_abundance'], agn3_filtered['log_mass'],alpha=0.5, s=3, color = 'orange', label='AGN3')\n",
    "\n",
    "plt.xscale('log')\n",
    "plt.yscale('log')\n",
    "\n",
    "plt.xlabel('$logZ$', fontsize = '20')\n",
    "plt.ylabel('$logM_{*}$', fontsize = '20')\n",
    "\n",
    "plt.xticks(fontsize=15)\n",
    "plt.yticks(fontsize=15)\n",
    "\n",
    "plt.legend()\n",
    "\n",
    "plt.show()\n"
   ]
  },
  {
   "cell_type": "markdown",
   "id": "MseLJxoO6lr_",
   "metadata": {
    "id": "MseLJxoO6lr_"
   },
   "source": [
    "# Generating Image Cutouts (Figure 5) #\n"
   ]
  },
  {
   "cell_type": "code",
   "execution_count": null,
   "id": "iWX5G6X-6t0J",
   "metadata": {
    "id": "iWX5G6X-6t0J"
   },
   "outputs": [],
   "source": [
    "import matplotlib.pyplot as plt\n",
    "from astropy.coordinates import SkyCoord\n",
    "import pandas as pd\n",
    "from urllib.parse import urlencode\n",
    "from urllib.request import urlretrieve\n",
    "from matplotlib.image import imread\n",
    "import astropy.units as u\n",
    "\n",
    "def get_images(gal_array, description, figure_title):\n",
    "    # Clear the current figure if it exists and set a new figure title\n",
    "    plt.figure(figsize=(15, 15))\n",
    "    plt.suptitle(figure_title, fontsize=16)  # Add a title to the figure\n",
    "\n",
    "    # set thumbnail parameters\n",
    "    width = 200           # image width\n",
    "    height = 200          # height\n",
    "    pixelsize = 0.396     # image scale\n",
    "    subPlotNum = 1\n",
    "\n",
    "    i = 0\n",
    "    new_gals = gal_array.to_pandas()  # change to dataframe\n",
    "    new_gals.reset_index()            # set index to zero\n",
    "    nGalaxies = 30\n",
    "    for index in range(0, nGalaxies):  # iterate through rows in the DataFrame\n",
    "        i += 1\n",
    "        if i < 31:\n",
    "            print('Getting image of ' + description + str(i) + ' of ' + str(nGalaxies) + '...')\n",
    "            if i == nGalaxies:\n",
    "                print('Plotting images...')\n",
    "            scale = 2.0 * new_gals['petroR90_r'][index] / pixelsize / width\n",
    "\n",
    "            pos = coords.SkyCoord(new_gals['ra'][index], new_gals['dec'][index], unit=u.deg, frame='icrs')\n",
    "\n",
    "            cutoutbaseurl = 'http://skyservice.pha.jhu.edu/DR12/ImgCutout/getjpeg.aspx'\n",
    "            query_string = urlencode(dict(ra=new_gals['ra'][index], dec=new_gals['dec'][index], width=width, height=height, scale=scale))\n",
    "            url = cutoutbaseurl + '?' + query_string\n",
    "\n",
    "            # this downloads the image\n",
    "            image_name = 'cutout_' + str(index) + '.jpg'\n",
    "            urlretrieve(url, image_name)\n",
    "\n",
    "            # Display the image\n",
    "            img = imread(image_name)\n",
    "\n",
    "            plt.subplot(6, 6, subPlotNum)\n",
    "            subPlotNum += 1\n",
    "            plt.imshow(img)  # show images in grid\n",
    "            plt.xticks([])\n",
    "            plt.yticks([])\n",
    "            plt.title(index)  # show the object identifier (objId) above the image.\n",
    "\n",
    "    plt.show()  # Display the figure\n",
    "\n",
    "# Example of calling the function\n",
    "get_images(agn0, 'a nice looking galaxy ', 'AGN0')\n",
    "get_images(agn1, 'a nice looking galaxy ', 'AGN1')\n",
    "get_images(agn2, 'a nice looking galaxy ', 'AGN2')\n",
    "get_images(agn3, 'a nice looking galaxy ', 'AGN3')\n"
   ]
  },
  {
   "cell_type": "markdown",
   "id": "rsSRPxPp7_wI",
   "metadata": {
    "id": "rsSRPxPp7_wI"
   },
   "source": [
    "# Absolute Magnitudes for Each AGN Group (Figure 6) #"
   ]
  },
  {
   "cell_type": "code",
   "execution_count": null,
   "id": "0zdCw_xt8LF_",
   "metadata": {
    "id": "0zdCw_xt8LF_"
   },
   "outputs": [],
   "source": [
    "def get_d_from_z(z, c=3e5, H_0=70):\n",
    "    return (c * z) / H_0 * 1e6\n",
    "\n",
    "def get_abs_mag(app_mag, d):\n",
    "    return app_mag - 5 * (np.log10(d) - 1)\n",
    "\n",
    "def filter_and_extract(agn_data):\n",
    "    criteria = (agn_data['petroMag_g'] > 5 * agn_data['petroMagErr_g']) & (agn_data['petroFlux_r'] > 5 * agn_data['petroMagErr_g'])\n",
    "    filtered_data = agn_data[criteria]\n",
    "    return filtered_data['petroMag_g'], filtered_data['petroMag_r'], filtered_data['redshift']\n",
    "\n",
    "agn0_g_mag, agn0_r_mag, agn0_z = filter_and_extract(agn0)\n",
    "agn1_g_mag, agn1_r_mag, agn1_z = filter_and_extract(agn1)\n",
    "agn2_g_mag, agn2_r_mag, agn2_z = filter_and_extract(agn2)\n",
    "agn3_g_mag, agn3_r_mag, agn3_z = filter_and_extract(agn3)\n",
    "\n",
    "fig, axs = plt.subplots(2, 2, figsize=(12, 8))\n",
    "agn_data_list = [(agn0_g_mag, agn0_r_mag, agn0_z), (agn1_g_mag, agn1_r_mag, agn1_z),\n",
    "                 (agn2_g_mag, agn2_r_mag, agn2_z), (agn3_g_mag, agn3_r_mag, agn3_z)]\n",
    "colors = ['blue', 'red', 'green', 'orange']\n",
    "labels = ['AGN0', 'AGN1', 'AGN2', 'AGN3']\n",
    "\n",
    "for i, (agn_g, agn_r, agn_z) in enumerate(agn_data_list):\n",
    "    d = get_d_from_z(agn_z)\n",
    "    abs_mag_g = get_abs_mag(agn_g, d)\n",
    "    abs_mag_r = get_abs_mag(agn_r, d)\n",
    "    abs_color_index_gr = abs_mag_g - abs_mag_r\n",
    "\n",
    "    ax = axs[i // 2, i % 2]\n",
    "    ax.scatter(abs_color_index_gr, abs_mag_g, color=colors[i], s=0.3, label=labels[i])\n",
    "    ax.set_xlabel('G-R')\n",
    "    ax.set_ylabel('G Mag')\n",
    "    ax.set_xlim(-2,2)\n",
    "    ax.set_ylim(-30, -10)\n",
    "    ax.invert_yaxis()\n",
    "    ax.legend()\n",
    "\n",
    "plt.tight_layout()\n",
    "plt.show()\n",
    "\n"
   ]
  },
  {
   "cell_type": "markdown",
   "id": "5ZcZgLXQBGUH",
   "metadata": {
    "id": "5ZcZgLXQBGUH"
   },
   "source": [
    "# K-S Test for Significance of Color Change #"
   ]
  },
  {
   "cell_type": "markdown",
   "id": "RKQvhjaxoeD4",
   "metadata": {
    "id": "RKQvhjaxoeD4"
   },
   "source": [
    "The K-S test is a nonparametric test that compares the cumulative distribution functions (CDFs) of two datasets to determine if they are from the same continuous distribution. We are looking to determine if the samples of AGN have different color distributions, which we hypothesized from looking at the image cutouts and the color magnitude plots. If the K-S test results in a low p-value, it suggests that the two samples compared are likely to have come from different distributions, affirming our hypothesis that the AGN groups exhibit distinct color properties across various redshift ranges. Such a finding would indicate that the physical conditions within these galaxies—such as star formation rates, age of stellar populations, presence of dust, and metallicity—are evolving."
   ]
  },
  {
   "cell_type": "code",
   "execution_count": null,
   "id": "jlByJomFwVbR",
   "metadata": {
    "id": "jlByJomFwVbR"
   },
   "outputs": [],
   "source": [
    "from scipy.stats import ks_2samp\n",
    "\n",
    "\n",
    "def get_d_from_z(z, c=3e5, H_0=70):\n",
    "    return (c * z) / H_0 * 1e6  # Convert Mpc to pc\n",
    "\n",
    "def get_abs_mag(app_mag, d):\n",
    "    return app_mag - 5 * (np.log10(d) - 1)\n",
    "\n",
    "def calculate_color_index_and_ks_test(agn_g_mag, agn_r_mag, agn_z):\n",
    "    d = get_d_from_z(agn_z)\n",
    "    abs_mag_g = get_abs_mag(agn_g_mag, d)\n",
    "    abs_mag_r = get_abs_mag(agn_r_mag, d)\n",
    "    abs_color_index_gr = abs_mag_g - abs_mag_r\n",
    "    return abs_color_index_gr\n",
    "\n",
    "color_index_range = (-1, 1)\n",
    "\n",
    "agn0_color_index = calculate_color_index_and_ks_test(agn0_g_mag, agn0_r_mag, agn0_z)\n",
    "agn1_color_index = calculate_color_index_and_ks_test(agn1_g_mag, agn1_r_mag, agn1_z)\n",
    "agn2_color_index = calculate_color_index_and_ks_test(agn2_g_mag, agn2_r_mag, agn2_z)\n",
    "agn3_color_index = calculate_color_index_and_ks_test(agn3_g_mag, agn3_r_mag, agn3_z)\n",
    "\n",
    "ks_test_01 = ks_2samp(agn0_color_index, agn1_color_index)\n",
    "ks_test_12 = ks_2samp(agn1_color_index, agn2_color_index)\n",
    "ks_test_23 = ks_2samp(agn2_color_index, agn3_color_index)\n",
    "\n",
    "plt.figure(figsize=(10, 6))\n",
    "\n",
    "plt.hist(agn0_color_index, bins=30, range=color_index_range, alpha=0.5, color='blue', label='AGN0')\n",
    "plt.hist(agn1_color_index, bins=30, range=color_index_range, alpha=0.5, color='red', label='AGN1')\n",
    "plt.hist(agn2_color_index, bins=30, range=color_index_range, alpha=0.5, color='green', label='AGN2')\n",
    "plt.hist(agn3_color_index, bins=30, range=color_index_range, alpha=0.5, color='orange', label='AGN2')\n",
    "\n",
    "plt.xlabel('G-R Color Index')\n",
    "plt.ylabel('Frequency')\n",
    "plt.legend()\n",
    "\n",
    "plt.show()\n",
    "\n",
    "print(\"KS Test between AGN0 and AGN1:\", ks_test_01)\n",
    "print(\"KS Test between AGN1 and AGN2:\", ks_test_12)\n",
    "print(\"KS Test between AGN2 and AGN3:\", ks_test_23)\n"
   ]
  },
  {
   "cell_type": "markdown",
   "id": "SFOiWfPKoqDi",
   "metadata": {
    "id": "SFOiWfPKoqDi"
   },
   "source": [
    "When considering the colors of the image cutouts we got from each redshift division alongside the K-S test data, we find that there is statistically-significant evidence for a variation in the color distributions of AGN groups across varying redshifts. In the cutouts, we see a shift from blue in AGN0 and AGN1 to purple and yellow in AGN2, to green in AGN3. This shift is corroborated by the KS tests, which show significant differences in the color index distribtions. This shift could be because of the evolution of stellar populations, unique AGN activity, and the actual redshifting of light. The histograms indicate a shift in the peaks from more blue to more red. AGN0 peaks the closest to the bluer end of the color index, AGN1 as a peak slightly farther right, and AGN2 is even farther to the right. AGN3 has the farthest peak to the right.\n",
    "\n",
    "The peaks of these distributions, becoming progressively less negative from AGN0 through AGN3, align with the KS-test results that indicate statistically significant differences between these groups. The movement of the peaks from left to right across the AGN groups in the histogram mirrors the transition from bluer to greener colors observed in the SDSS image cutouts, which is consistent with the expected effects of cosmic evolution and redshift on galaxy colors."
   ]
  },
  {
   "cell_type": "markdown",
   "id": "ea4642eb",
   "metadata": {
    "id": "ea4642eb"
   },
   "source": [
    "# **Interpretation** #\n",
    "\n",
    "We note that a few of the galaxies found to contain AGN are green peas. Though unexpected, green peas may host AGN [Iopscience, 2023]; this research used WISE, however, which surveys the infrared spectrum whereas we are surveying the visible spectrum in SDSS. We also found many AGN are in purple grape galaxies, and potential AGN host blueberry galaxies. One parameter considered in interpreting the galaxies given by the SDSS is the error in flux which is allowed. Determining the appropriate amount of allowable error is pertinent to the validity of our results. The galaxy images at lower redshift have a better resolution (as expected due to technological limitations).\n",
    "\n",
    "We find that our graph of mass versus redshift matches that which was developed in research [Fig. 3 ]. AGN host galaxies found at a higher redshift are expected to be more massive. The explanation behind this phenomenon is that galaxies at higher redshift are further away, and small galaxies are difficult to detect when far away (they cover less distance across the sky for the telescope to see and they are less luminous). Therefore, our data and the data in the research is reflecting an intrinsic bias in astronomical data due to technological limitations. The data collected indicates that this relationship is present and the galaxies at lower redshift values correlate to lower galaxy masses. The plot of this relationship shows an upward trend illustrating that galaxies at higher redshifts have greater masses.\n",
    "\n",
    "Our data supports the assumption that AGN at a greater redshift will have a greater apparent magnitude (meaning they will appear dimmer). In the graph, we expected the magnitudes to increase up and to the right, corresponding with a dimming of AGN at greater redshift [Fig. 6 ]. We expected the absolute magnitude of AGN to increase with redshift due to the bias preferring more massive galaxies at greater redshift. However, this was not necessarily shown by the data [Fig. 6]. The data supports a distribution of absolute magnitudes as a function of redshift that does not have any strong correlation. This is the result that would be expected sans galaxy mass bias. Our data suggests that the absolute magnitude of AGN increases with redshift, meaning they are intrinsically dimmer. This could perhaps be explained by the following: more massive galaxies, preferentially found at higher redshift, are less star-forming (and are “red and dead”) and will therefore contain fewer blue stars.\n",
    "\n",
    "Our prediction stating that AGN at higher redshift will have a lower metallicity was not supported by the data obtained [Fig. 2 ]. The relationship shows galaxies at higher redshift have higher metallicities. We conclude that this is due to the mass bias we have encountered throughout the SDSS sample. Given that the galaxies at higher redshifts are more massive than those at lower redshifts, the abundance of metals heavier than hydrogen and helium increases. In addition, the relationship between mass and metallicity shows a positive correlation in which increased mass results in increased metallicity [Fig 4.]. This supports the findings of Fig 2, as more massive galaxies at higher redshifts, have higher metallicities.\n"
   ]
  },
  {
   "cell_type": "markdown",
   "id": "907b2c4b",
   "metadata": {
    "id": "907b2c4b"
   },
   "source": [
    "# **Conclusions and Key Takeaways** #"
   ]
  },
  {
   "cell_type": "markdown",
   "id": "GMU6IvMjzpay",
   "metadata": {
    "id": "GMU6IvMjzpay"
   },
   "source": [
    "- **Increased Metallicity with Host Galaxy Mass**:\n",
    "  - Our findings indicate a direct correlation between the metallicity of AGN and the mass of their host galaxies. This suggests that more massive galaxies, with their rich metal environments, are conducive to the development and evolution of more AGN.\n",
    "\n",
    "- **Positive Correlation between AGN Metallicity and Redshift**:\n",
    "  - The study revealed that AGN metallicity correlates positively with redshift. This implies that higher redshift AGN exhibit higher metallicity, contradictory to what was expected. This suggests that in the earlier Universe, AGN environments might have been richer in metals. However, since there is a positive relationship between mass and metallicity, this result could be due to SDSS limits.\n",
    "\n",
    "- **Shifts in Host AGN Color from Blue to Red**:\n",
    "  - We observed a clear change, even within the small redshift from 0.0 to 0.4, in the colors of the AGN host galaxies from blue to green and yellow. This is as expected, as we see more red galaxies in the early Universe.\n",
    "\n",
    "- **Challenges in Data Representation and Bias**:\n",
    "  - The study highlighted the challenges in astronomical data analysis, particularly the skewed representation due to varied sample sizes in galaxy bins. This emphasizes the need for careful consideration of observational biases in future research. Further, it emphasizes the need for careful consideration when creating redshift limits in a logarithmic rather than linear fashion, as this helps even out the distribution.\n",
    "\n",
    "- **Broader Implications in Astronomy**:\n",
    "  - This project has implications in understanding the chemical and physical evolution of galaxies containing AGN.\n",
    "  - In particular, the change in color of the host galaxies is intriguing even at such a small redshift.\n",
    "  - Further, this project serves as a tool for understanding how bias can influence samples in astronomy.\n",
    "  \n",
    "- **Avenues for Future Research**:\n",
    "  - A more comprehensive survey of AGN in the local Universe would include less bias from the challenge of increasing distance.\n",
    "  - We found it interesting that our cutouts seemed to feature so many purple grapes and green peas. Some sources alluded that AGN could not be found in green pea galaxies, so more research would be beneficial.\n",
    "  "
   ]
  },
  {
   "cell_type": "markdown",
   "id": "d67c3e1c",
   "metadata": {
    "id": "d67c3e1c"
   },
   "source": [
    "# **References** #\n",
    "\n",
    "Aird, J., & Coil, A. L. (2021). The AGN–galaxy–halo connection: The distribution of AGN host halo masses to z = 2.5. Monthly Notices of the Royal Astronomical Society, 502(4), 5962–5980. https://doi.org/10.1093/mnras/stab312\n",
    "\n",
    "Nascimento, J. C. do, Dors, O. L., Storchi-Bergmann, T., Mallmann, N. D., Riffel, R., Ilha, G. S., Riffel, R. A., Rembold, S. B., Deconto-Machado, A., da Costa, L. N., & Armah, M. (2022). Gas phase metallicity determinations in nearby AGNs with SDSS-IV MaNGA: Evidence of metal poor accretion. Monthly Notices of the Royal Astronomical Society, 513(1), 807–821. https://doi.org/10.1093/mnras/stac771\n",
    "\n",
    "Owocki, Stan. “Fundamentals of Astrophysics,” n.d.\n",
    "\n",
    "“Seyfert Galaxies.” Seyfert Galaxies - an Overview | ScienceDirect Topics (2003), www.sciencedirect.com/topics/physics-and-astronomy/seyfert-galaxies#:~:text=There%20are%2C%20in%20fact%2C%20two,broad%20and%20narrow%20emission%20lines. Accessed 30 Nov. 2023.\n",
    "\n",
    "AGN Emission Lines - California Institute of Technology (1990), ned.ipac.caltech.edu/level5/March02/Netzer/paper.pdf. Accessed 30 Nov. 2023. \n",
    "\n",
    "Sanders, Nathan. “Guide to Classification of Galaxies and Agns.” Astrobites, 15 Aug. 2016, astrobites.org/guides/galaxy-and-agn-types/#:~:text=Type%20I%20refers%20to%20AGN,(see%20arXiv%3A1101.3335). \n",
    "\n",
    "Evidence for Black Holes in Green Peas from Wise Colors ... - Iopscience (2023), iopscience.iop.org/article/10.3847/1538-4357/acb99c. Accessed 30 Nov. 2023. \n",
    "\n",
    "Thomas, A. D., Kewley, L. J., Dopita, M. A., Groves, B. A., Hopkins, A. M., & Sutherland, R. S. (2019). The Mass–Metallicity Relation of Local Active Galaxies. The Astrophysical Journal, 874(1), 100. https://doi.org/10.3847/1538-4357/ab08a1\n",
    "\n",
    "Wylezalek, D., Schnorr Müller, A., Zakamska, N. L., Storchi-Bergmann, T., Greene, J. E., Müller-Sánchez, F., Kelly, M., Liu, G., Law, D. R., Barrera-Ballesteros, J. K., Riffel, R. A., & Thomas, D. (2017). Zooming into local active galactic nuclei: The power of combining SDSS-IV MaNGA with higher resolution integral field unit observations. Monthly Notices of the Royal Astronomical Society, stx246. https://doi.org/10.1093/mnras/stx246\n",
    "\n",
    "Host galaxy properties of X-ray active galactic nuclei in the local Universe | Astronomy & Astrophysics (A&A). (n.d.). Retrieved November 14, 2023, from https://www.aanda.org/articles/aa/full_html/2022/02/aa42466-21/aa42466-21.html\n",
    "\n",
    "First constraints on the AGN X-ray luminosity function at z ~ 6 from an eROSITA-detected quasar | Astronomy & Astrophysics (A&A). (n.d.). Retrieved November 14, 2023, from https://www.aanda.org/articles/aa/full_html/2021/03/aa39724-20/aa39724-20.html\n",
    "\n",
    "The role of galaxy mass on AGN emission: A view from the VANDELS survey. (n.d.). Retrieved November 14, 2023, from https://arxiv.org/abs/2002.02980"
   ]
  },
  {
   "cell_type": "markdown",
   "id": "4HpudOiUnwJ7",
   "metadata": {
    "id": "4HpudOiUnwJ7"
   },
   "source": [
    "# **SQL Query** #"
   ]
  },
  {
   "cell_type": "markdown",
   "id": "JErvFZyen1-J",
   "metadata": {
    "id": "JErvFZyen1-J"
   },
   "source": [
    "Our SQL query was designed to pull galaxies predicted to host AGN in the local Universe. We used a combination of spectroscopic and photometric parameters, including redshift, emission line fluxes, and physical properties of the galaxies to ensure comprehensive access to different characteristics of AGN. Our selection criteria emphasized strong emission lines significantly above the measurement error, which is essential to AGN activity. Furthermore, BPT classification criteria relied on the emission line ratio values of [OIII]/Hβ > 3  and [NII]/Hα < 0.6. The ratio of  [OIII]/Hβ > 3 indicates the level of ionization. In AGN, strong radiation from the central black hole ionizes oxygen more efficiently than hydrogen, leading to a higher ratio of 3 compared to 0.6. In addition, a value greater than 3 suggests a significant contribution from an AGN, whereas the ratio of [NII]/Hα < 0.6 helps distinguish AGN from normal star-forming galaxies. AGN typically exhibit enhanced nitrogen emission due to the processes around the supermassive black hole. However, a value less than 0.6 often indicates that the emission is not dominated by the AGN, but rather by star formation. By applying specific emission line ratios and adhering to the BPT classification scheme, it was possible to better collect AGN with our query. The query was run four times to collect four groups of AGN at logarithmically increasing redshifts from z = 0.0 to z = 0.4. Since the expansion of the Universe is not a linear process, a logarithmic scale better represents the relationship between redshift and cosmic time. It also allows a more uniform sampling of AGN since the distribution of galaxies and AGN in the SDSS catalog is not uniform across different redshifts. The SDSS is more complete at lower redshifts and higher redshift galaxies are underrepresented as they are harder to detect. The logarithmic scale was intended to mitigate this issue. In addition, the limitations on the redshift values as well as the redshift warnings (set to 0) ensure that the AGN being observed are within the local universe.\n",
    "\n",
    "\n"
   ]
  },
  {
   "cell_type": "markdown",
   "id": "joJdtGEJwb2M",
   "metadata": {
    "id": "joJdtGEJwb2M"
   },
   "source": [
    "\n",
    "```\n",
    "SELECT\n",
    "    s.plate, s.fiberid, s.mjd, s.z AS redshift, s.zwarning,\n",
    "    g.oiii_5007_flux, g.h_beta_flux, g.nii_6584_flux, g.h_alpha_flux,\n",
    "    g.oiii_5007_flux_err, g.h_beta_flux_err, g.nii_6584_flux_err, g.h_alpha_flux_err,\n",
    "    e.bptclass, e.lgm_tot_p50 AS log_mass, e.oh_p50 AS oxygen_abundance,\n",
    "    p.petroR90_r, p.ra, p.dec,\n",
    "    p.petroFlux_g, p.petroFlux_i, p.petroFlux_r, p.petroFlux_u, p.petroFlux_z,\n",
    "    p.petroR90Err_g, p.petroR90Err_i, p.petroR90Err_r, p.petroR90Err_u, p.petroR90Err_z,\n",
    "    p.petroMag_u, p.petroMag_g, p.petroMag_r, p.petroMag_i, p.petroMag_z,\n",
    "    p.petroMagErr_u, p.petroMagErr_g, p.petroMagErr_r, p.petroMagErr_i, p.petroMagErr_z\n",
    "FROM GalSpecLine AS g\n",
    "JOIN SpecObj AS s ON s.specobjid = g.specobjid\n",
    "JOIN GalSpecExtra AS e ON s.specobjid = e.specobjid\n",
    "JOIN PhotoObjAll AS p ON s.specObjID = p.specObjID\n",
    "WHERE s.z BETWEEN 0 AND 0.01\n",
    "AND g.h_alpha_flux > g.h_alpha_flux_err * 5\n",
    "AND g.h_beta_flux > g.h_beta_flux_err * 5\n",
    "AND g.h_alpha_flux_err > 0\n",
    "AND g.h_beta_flux_err > 0\n",
    "AND s.class = 'GALAXY'\n",
    "AND s.zwarning = 0\n",
    "AND (g.oiii_5007_flux / g.h_beta_flux) > 3\n",
    "AND (g.nii_6584_flux / g.h_alpha_flux) < 0.6\n",
    "\n",
    "```\n",
    "\n"
   ]
  },
  {
   "cell_type": "code",
   "execution_count": null,
   "id": "rrGo3Qw4qYhH",
   "metadata": {
    "id": "rrGo3Qw4qYhH"
   },
   "outputs": [],
   "source": []
  }
 ],
 "metadata": {
  "colab": {
   "provenance": []
  },
  "kernelspec": {
   "display_name": "Python 3 (ipykernel)",
   "language": "python",
   "name": "python3"
  },
  "language_info": {
   "codemirror_mode": {
    "name": "ipython",
    "version": 3
   },
   "file_extension": ".py",
   "mimetype": "text/x-python",
   "name": "python",
   "nbconvert_exporter": "python",
   "pygments_lexer": "ipython3",
   "version": "3.12.4"
  }
 },
 "nbformat": 4,
 "nbformat_minor": 5
}
